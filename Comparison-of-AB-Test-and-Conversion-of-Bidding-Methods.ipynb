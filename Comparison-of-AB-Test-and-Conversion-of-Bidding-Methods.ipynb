{
  "nbformat": 4,
  "nbformat_minor": 0,
  "metadata": {
    "colab": {
      "provenance": []
    },
    "kernelspec": {
      "name": "python3",
      "display_name": "Python 3"
    },
    "language_info": {
      "name": "python"
    }
  },
  "cells": [
    {
      "cell_type": "code",
      "execution_count": 1,
      "metadata": {
        "id": "ny8zWaLSUEhF"
      },
      "outputs": [],
      "source": [
        "#####################################################\n",
        "# AB Testi ile BiddingYöntemlerinin Dönüşümünün Karşılaştırılması\n",
        "#####################################################"
      ]
    },
    {
      "cell_type": "code",
      "source": [
        "#####################################################\n",
        "# İş Problemi\n",
        "#####################################################\n",
        "\n",
        "# Facebook kısa süre önce mevcut \"maximumbidding\" adı verilen teklif verme türüne alternatif\n",
        "# olarak yeni bir teklif türü olan \"average bidding\"’i tanıttı. Müşterilerimizden biri olanbombabomba.com,\n",
        "# bu yeni özelliği test etmeye karar verdi veaveragebidding'in maximumbidding'den daha fazla dönüşüm\n",
        "# getirip getirmediğini anlamak için birA/B testiyapmak istiyor.A/B testi 1 aydır devam ediyor ve\n",
        "# bombabomba.com şimdi sizden bu A/B testinin sonuçlarını analiz etmenizi bekliyor.Bombabomba.com için\n",
        "# nihai başarı ölçütü Purchase'dır. Bu nedenle, istatistiksel testler için Purchasemetriğine odaklanılmalıdır."
      ],
      "metadata": {
        "id": "0tZO4j_3UHtW"
      },
      "execution_count": 2,
      "outputs": []
    },
    {
      "cell_type": "code",
      "source": [
        "#####################################################\n",
        "# Veri Seti Hikayesi\n",
        "#####################################################\n",
        "\n",
        "# Bir firmanın web site bilgilerini içeren bu veri setinde kullanıcıların gördükleri ve tıkladıkları\n",
        "# reklam sayıları gibi bilgilerin yanı sıra buradan gelen kazanç bilgileri yer almaktadır.Kontrol ve Test\n",
        "# grubu olmak üzere iki ayrı veri seti vardır. Bu veri setleriab_testing.xlsxexcel’ininayrı sayfalarında yer\n",
        "# almaktadır. Kontrol grubuna Maximum Bidding, test grubuna AverageBiddinguygulanmıştır.\n",
        "\n",
        "# impression: Reklam görüntüleme sayısı\n",
        "# Click: Görüntülenen reklama tıklama sayısı\n",
        "# Purchase: Tıklanan reklamlar sonrası satın alınan ürün sayısı\n",
        "# Earning: Satın alınan ürünler sonrası elde edilen kazanç"
      ],
      "metadata": {
        "id": "kjFhP0goUbEr"
      },
      "execution_count": 3,
      "outputs": []
    },
    {
      "cell_type": "code",
      "source": [
        "#####################################################\n",
        "# Veriyi Hazırlama ve Analiz Etme\n",
        "#####################################################"
      ],
      "metadata": {
        "id": "tiFMCSPPUdn6"
      },
      "execution_count": 4,
      "outputs": []
    },
    {
      "cell_type": "code",
      "source": [
        "import pandas as pd\n",
        "import numpy as np\n",
        "import pandas as pd\n",
        "import matplotlib.pyplot as plt\n",
        "from scipy.stats import shapiro, levene, ttest_ind"
      ],
      "metadata": {
        "id": "Xzm5o3BoUh0F"
      },
      "execution_count": 5,
      "outputs": []
    },
    {
      "cell_type": "code",
      "source": [
        "pd.set_option('display.max_columns', None)\n",
        "pd.set_option('display.expand_frame_repr', False)\n",
        "pd.set_option('display.float_format', lambda x: '%.5f' % x)"
      ],
      "metadata": {
        "id": "Cmjtree_UkBd"
      },
      "execution_count": 6,
      "outputs": []
    },
    {
      "cell_type": "code",
      "source": [
        "dataframe_control = pd.read_excel(\"/content/drive/MyDrive/datasets/ab_testing.xlsx\" , sheet_name=\"Control Group\")\n",
        "dataframe_test = pd.read_excel(\"/content/drive/MyDrive/datasets/ab_testing.xlsx\" , sheet_name=\"Test Group\")\n",
        "\n",
        "df_control = dataframe_control.copy()\n",
        "df_test = dataframe_test.copy()"
      ],
      "metadata": {
        "id": "XfokuO4QUleG"
      },
      "execution_count": 7,
      "outputs": []
    },
    {
      "cell_type": "code",
      "source": [
        "# Adım 2: Kontrol ve test grubu verilerini analiz ediniz.\n",
        "\n",
        "\n",
        "def check_df(dataframe, head=5):\n",
        "    print(\"##################### Shape #####################\")\n",
        "    print(dataframe.shape)\n",
        "    print(\"##################### Types #####################\")\n",
        "    print(dataframe.dtypes)\n",
        "    print(\"##################### Head #####################\")\n",
        "    print(dataframe.head())\n",
        "    print(\"##################### Tail #####################\")\n",
        "    print(dataframe.tail())\n",
        "    print(\"##################### NA #####################\")\n",
        "    print(dataframe.isnull().sum())\n",
        "    print(\"##################### Quantiles #####################\")\n",
        "    print(dataframe.quantile([0, 0.05, 0.50, 0.95, 0.99, 1]).T)"
      ],
      "metadata": {
        "id": "QXBy-gfBUtD6"
      },
      "execution_count": 8,
      "outputs": []
    },
    {
      "cell_type": "code",
      "source": [
        "check_df(df_control)"
      ],
      "metadata": {
        "colab": {
          "base_uri": "https://localhost:8080/"
        },
        "id": "zDeOZlaTUwAN",
        "outputId": "09e2e957-cf94-4b72-ce78-b3713e9c1b36"
      },
      "execution_count": 9,
      "outputs": [
        {
          "output_type": "stream",
          "name": "stdout",
          "text": [
            "##################### Shape #####################\n",
            "(40, 4)\n",
            "##################### Types #####################\n",
            "Impression    float64\n",
            "Click         float64\n",
            "Purchase      float64\n",
            "Earning       float64\n",
            "dtype: object\n",
            "##################### Head #####################\n",
            "    Impression      Click  Purchase    Earning\n",
            "0  82529.45927 6090.07732 665.21125 2311.27714\n",
            "1  98050.45193 3382.86179 315.08489 1742.80686\n",
            "2  82696.02355 4167.96575 458.08374 1797.82745\n",
            "3 109914.40040 4910.88224 487.09077 1696.22918\n",
            "4 108457.76263 5987.65581 441.03405 1543.72018\n",
            "##################### Tail #####################\n",
            "     Impression      Click  Purchase    Earning\n",
            "35 132064.21900 3747.15754 551.07241 2256.97559\n",
            "36  86409.94180 4608.25621 345.04603 1781.35769\n",
            "37 123678.93423 3649.07379 476.16813 2187.72122\n",
            "38 101997.49410 4736.35337 474.61354 2254.56383\n",
            "39 121085.88122 4285.17861 590.40602 1289.30895\n",
            "##################### NA #####################\n",
            "Impression    0\n",
            "Click         0\n",
            "Purchase      0\n",
            "Earning       0\n",
            "dtype: int64\n",
            "##################### Quantiles #####################\n",
            "               0.00000     0.05000     0.50000      0.95000      0.99000      1.00000\n",
            "Impression 45475.94296 79412.01792 99790.70108 132950.53245 143105.79110 147539.33633\n",
            "Click       2189.75316  3367.48426  5001.22060   7374.36120   7761.79511   7959.12507\n",
            "Purchase     267.02894   328.66242   531.20631    748.27076    790.18779    801.79502\n",
            "Earning     1253.98952  1329.57708  1975.16052   2318.52850   2481.30874   2497.29522\n"
          ]
        }
      ]
    },
    {
      "cell_type": "code",
      "source": [
        "check_df(df_test)"
      ],
      "metadata": {
        "colab": {
          "base_uri": "https://localhost:8080/"
        },
        "id": "7-lYAp_6Ux8R",
        "outputId": "fb5f3852-131e-448c-d890-273fa01672ff"
      },
      "execution_count": 10,
      "outputs": [
        {
          "output_type": "stream",
          "name": "stdout",
          "text": [
            "##################### Shape #####################\n",
            "(40, 4)\n",
            "##################### Types #####################\n",
            "Impression    float64\n",
            "Click         float64\n",
            "Purchase      float64\n",
            "Earning       float64\n",
            "dtype: object\n",
            "##################### Head #####################\n",
            "    Impression      Click  Purchase    Earning\n",
            "0 120103.50380 3216.54796 702.16035 1939.61124\n",
            "1 134775.94336 3635.08242 834.05429 2929.40582\n",
            "2 107806.62079 3057.14356 422.93426 2526.24488\n",
            "3 116445.27553 4650.47391 429.03353 2281.42857\n",
            "4 145082.51684 5201.38772 749.86044 2781.69752\n",
            "##################### Tail #####################\n",
            "     Impression      Click  Purchase    Earning\n",
            "35  79234.91193 6002.21358 382.04712 2277.86398\n",
            "36 130702.23941 3626.32007 449.82459 2530.84133\n",
            "37 116481.87337 4702.78247 472.45373 2597.91763\n",
            "38  79033.83492 4495.42818 425.35910 2595.85788\n",
            "39 102257.45409 4800.06832 521.31073 2967.51839\n",
            "##################### NA #####################\n",
            "Impression    0\n",
            "Click         0\n",
            "Purchase      0\n",
            "Earning       0\n",
            "dtype: int64\n",
            "##################### Quantiles #####################\n",
            "               0.00000     0.05000      0.50000      0.95000      0.99000      1.00000\n",
            "Impression 79033.83492 83150.50378 119291.30077 153178.69106 158245.26380 158605.92048\n",
            "Click       1836.62986  2600.36102   3931.35980   5271.18691   6012.87730   6019.69508\n",
            "Purchase     311.62952   356.69540    551.35573    854.20895    876.57610    889.91046\n",
            "Earning     1939.61124  2080.97621   2544.66611   2931.31145   3091.94089   3171.48971\n"
          ]
        }
      ]
    },
    {
      "cell_type": "code",
      "source": [
        "# Adım 3: Analiz işleminden sonra concat metodunu kullanarak kontrol ve test grubu verilerini birleştiriniz.\n",
        "\n",
        "df_control[\"group\"] = \"control\"\n",
        "df_test[\"group\"] = \"test\"\n",
        "\n",
        "df = pd.concat([df_control,df_test], axis=0,ignore_index=False)"
      ],
      "metadata": {
        "id": "olKr8jAKU0A9"
      },
      "execution_count": 11,
      "outputs": []
    },
    {
      "cell_type": "code",
      "source": [
        "df.head()"
      ],
      "metadata": {
        "colab": {
          "base_uri": "https://localhost:8080/",
          "height": 206
        },
        "id": "BESwd2h3U34O",
        "outputId": "40ecf2f2-fdc0-4e65-d4e0-da247552500b"
      },
      "execution_count": 12,
      "outputs": [
        {
          "output_type": "execute_result",
          "data": {
            "text/plain": [
              "    Impression      Click  Purchase    Earning    group\n",
              "0  82529.45927 6090.07732 665.21125 2311.27714  control\n",
              "1  98050.45193 3382.86179 315.08489 1742.80686  control\n",
              "2  82696.02355 4167.96575 458.08374 1797.82745  control\n",
              "3 109914.40040 4910.88224 487.09077 1696.22918  control\n",
              "4 108457.76263 5987.65581 441.03405 1543.72018  control"
            ],
            "text/html": [
              "\n",
              "  <div id=\"df-caeac927-fd5a-4129-a5ba-3d49889ecafd\">\n",
              "    <div class=\"colab-df-container\">\n",
              "      <div>\n",
              "<style scoped>\n",
              "    .dataframe tbody tr th:only-of-type {\n",
              "        vertical-align: middle;\n",
              "    }\n",
              "\n",
              "    .dataframe tbody tr th {\n",
              "        vertical-align: top;\n",
              "    }\n",
              "\n",
              "    .dataframe thead th {\n",
              "        text-align: right;\n",
              "    }\n",
              "</style>\n",
              "<table border=\"1\" class=\"dataframe\">\n",
              "  <thead>\n",
              "    <tr style=\"text-align: right;\">\n",
              "      <th></th>\n",
              "      <th>Impression</th>\n",
              "      <th>Click</th>\n",
              "      <th>Purchase</th>\n",
              "      <th>Earning</th>\n",
              "      <th>group</th>\n",
              "    </tr>\n",
              "  </thead>\n",
              "  <tbody>\n",
              "    <tr>\n",
              "      <th>0</th>\n",
              "      <td>82529.45927</td>\n",
              "      <td>6090.07732</td>\n",
              "      <td>665.21125</td>\n",
              "      <td>2311.27714</td>\n",
              "      <td>control</td>\n",
              "    </tr>\n",
              "    <tr>\n",
              "      <th>1</th>\n",
              "      <td>98050.45193</td>\n",
              "      <td>3382.86179</td>\n",
              "      <td>315.08489</td>\n",
              "      <td>1742.80686</td>\n",
              "      <td>control</td>\n",
              "    </tr>\n",
              "    <tr>\n",
              "      <th>2</th>\n",
              "      <td>82696.02355</td>\n",
              "      <td>4167.96575</td>\n",
              "      <td>458.08374</td>\n",
              "      <td>1797.82745</td>\n",
              "      <td>control</td>\n",
              "    </tr>\n",
              "    <tr>\n",
              "      <th>3</th>\n",
              "      <td>109914.40040</td>\n",
              "      <td>4910.88224</td>\n",
              "      <td>487.09077</td>\n",
              "      <td>1696.22918</td>\n",
              "      <td>control</td>\n",
              "    </tr>\n",
              "    <tr>\n",
              "      <th>4</th>\n",
              "      <td>108457.76263</td>\n",
              "      <td>5987.65581</td>\n",
              "      <td>441.03405</td>\n",
              "      <td>1543.72018</td>\n",
              "      <td>control</td>\n",
              "    </tr>\n",
              "  </tbody>\n",
              "</table>\n",
              "</div>\n",
              "      <button class=\"colab-df-convert\" onclick=\"convertToInteractive('df-caeac927-fd5a-4129-a5ba-3d49889ecafd')\"\n",
              "              title=\"Convert this dataframe to an interactive table.\"\n",
              "              style=\"display:none;\">\n",
              "        \n",
              "  <svg xmlns=\"http://www.w3.org/2000/svg\" height=\"24px\"viewBox=\"0 0 24 24\"\n",
              "       width=\"24px\">\n",
              "    <path d=\"M0 0h24v24H0V0z\" fill=\"none\"/>\n",
              "    <path d=\"M18.56 5.44l.94 2.06.94-2.06 2.06-.94-2.06-.94-.94-2.06-.94 2.06-2.06.94zm-11 1L8.5 8.5l.94-2.06 2.06-.94-2.06-.94L8.5 2.5l-.94 2.06-2.06.94zm10 10l.94 2.06.94-2.06 2.06-.94-2.06-.94-.94-2.06-.94 2.06-2.06.94z\"/><path d=\"M17.41 7.96l-1.37-1.37c-.4-.4-.92-.59-1.43-.59-.52 0-1.04.2-1.43.59L10.3 9.45l-7.72 7.72c-.78.78-.78 2.05 0 2.83L4 21.41c.39.39.9.59 1.41.59.51 0 1.02-.2 1.41-.59l7.78-7.78 2.81-2.81c.8-.78.8-2.07 0-2.86zM5.41 20L4 18.59l7.72-7.72 1.47 1.35L5.41 20z\"/>\n",
              "  </svg>\n",
              "      </button>\n",
              "      \n",
              "  <style>\n",
              "    .colab-df-container {\n",
              "      display:flex;\n",
              "      flex-wrap:wrap;\n",
              "      gap: 12px;\n",
              "    }\n",
              "\n",
              "    .colab-df-convert {\n",
              "      background-color: #E8F0FE;\n",
              "      border: none;\n",
              "      border-radius: 50%;\n",
              "      cursor: pointer;\n",
              "      display: none;\n",
              "      fill: #1967D2;\n",
              "      height: 32px;\n",
              "      padding: 0 0 0 0;\n",
              "      width: 32px;\n",
              "    }\n",
              "\n",
              "    .colab-df-convert:hover {\n",
              "      background-color: #E2EBFA;\n",
              "      box-shadow: 0px 1px 2px rgba(60, 64, 67, 0.3), 0px 1px 3px 1px rgba(60, 64, 67, 0.15);\n",
              "      fill: #174EA6;\n",
              "    }\n",
              "\n",
              "    [theme=dark] .colab-df-convert {\n",
              "      background-color: #3B4455;\n",
              "      fill: #D2E3FC;\n",
              "    }\n",
              "\n",
              "    [theme=dark] .colab-df-convert:hover {\n",
              "      background-color: #434B5C;\n",
              "      box-shadow: 0px 1px 3px 1px rgba(0, 0, 0, 0.15);\n",
              "      filter: drop-shadow(0px 1px 2px rgba(0, 0, 0, 0.3));\n",
              "      fill: #FFFFFF;\n",
              "    }\n",
              "  </style>\n",
              "\n",
              "      <script>\n",
              "        const buttonEl =\n",
              "          document.querySelector('#df-caeac927-fd5a-4129-a5ba-3d49889ecafd button.colab-df-convert');\n",
              "        buttonEl.style.display =\n",
              "          google.colab.kernel.accessAllowed ? 'block' : 'none';\n",
              "\n",
              "        async function convertToInteractive(key) {\n",
              "          const element = document.querySelector('#df-caeac927-fd5a-4129-a5ba-3d49889ecafd');\n",
              "          const dataTable =\n",
              "            await google.colab.kernel.invokeFunction('convertToInteractive',\n",
              "                                                     [key], {});\n",
              "          if (!dataTable) return;\n",
              "\n",
              "          const docLinkHtml = 'Like what you see? Visit the ' +\n",
              "            '<a target=\"_blank\" href=https://colab.research.google.com/notebooks/data_table.ipynb>data table notebook</a>'\n",
              "            + ' to learn more about interactive tables.';\n",
              "          element.innerHTML = '';\n",
              "          dataTable['output_type'] = 'display_data';\n",
              "          await google.colab.output.renderOutput(dataTable, element);\n",
              "          const docLink = document.createElement('div');\n",
              "          docLink.innerHTML = docLinkHtml;\n",
              "          element.appendChild(docLink);\n",
              "        }\n",
              "      </script>\n",
              "    </div>\n",
              "  </div>\n",
              "  "
            ]
          },
          "metadata": {},
          "execution_count": 12
        }
      ]
    },
    {
      "cell_type": "code",
      "source": [
        "#####################################################\n",
        "# Görev 2:  A/B Testinin Hipotezinin Tanımlanması\n",
        "#####################################################\n",
        "\n",
        "# Adım 1: Hipotezi tanımlayınız.\n",
        "\n",
        "# H0 : M1 = M2 (Kontrol grubu ve test grubu satın alma ortalamaları arasında fark yoktur.)\n",
        "# H1 : M1!= M2 (Kontrol grubu ve test grubu satın alma ortalamaları arasında fark vardır.)\n",
        "\n",
        "\n",
        "# Adım 2: Kontrol ve test grubu için purchase(kazanç) ortalamalarını analiz ediniz"
      ],
      "metadata": {
        "id": "md1TJAyGVFbX"
      },
      "execution_count": 14,
      "outputs": []
    },
    {
      "cell_type": "code",
      "source": [
        "df.groupby(\"group\").agg({\"Purchase\": \"mean\"})"
      ],
      "metadata": {
        "colab": {
          "base_uri": "https://localhost:8080/",
          "height": 143
        },
        "id": "81L4NUJCU58d",
        "outputId": "64bf40f4-ba35-4688-a011-517cd792dac4"
      },
      "execution_count": 15,
      "outputs": [
        {
          "output_type": "execute_result",
          "data": {
            "text/plain": [
              "         Purchase\n",
              "group            \n",
              "control 550.89406\n",
              "test    582.10610"
            ],
            "text/html": [
              "\n",
              "  <div id=\"df-7c7cc432-3f14-4d68-bfc8-d6997604c1a1\">\n",
              "    <div class=\"colab-df-container\">\n",
              "      <div>\n",
              "<style scoped>\n",
              "    .dataframe tbody tr th:only-of-type {\n",
              "        vertical-align: middle;\n",
              "    }\n",
              "\n",
              "    .dataframe tbody tr th {\n",
              "        vertical-align: top;\n",
              "    }\n",
              "\n",
              "    .dataframe thead th {\n",
              "        text-align: right;\n",
              "    }\n",
              "</style>\n",
              "<table border=\"1\" class=\"dataframe\">\n",
              "  <thead>\n",
              "    <tr style=\"text-align: right;\">\n",
              "      <th></th>\n",
              "      <th>Purchase</th>\n",
              "    </tr>\n",
              "    <tr>\n",
              "      <th>group</th>\n",
              "      <th></th>\n",
              "    </tr>\n",
              "  </thead>\n",
              "  <tbody>\n",
              "    <tr>\n",
              "      <th>control</th>\n",
              "      <td>550.89406</td>\n",
              "    </tr>\n",
              "    <tr>\n",
              "      <th>test</th>\n",
              "      <td>582.10610</td>\n",
              "    </tr>\n",
              "  </tbody>\n",
              "</table>\n",
              "</div>\n",
              "      <button class=\"colab-df-convert\" onclick=\"convertToInteractive('df-7c7cc432-3f14-4d68-bfc8-d6997604c1a1')\"\n",
              "              title=\"Convert this dataframe to an interactive table.\"\n",
              "              style=\"display:none;\">\n",
              "        \n",
              "  <svg xmlns=\"http://www.w3.org/2000/svg\" height=\"24px\"viewBox=\"0 0 24 24\"\n",
              "       width=\"24px\">\n",
              "    <path d=\"M0 0h24v24H0V0z\" fill=\"none\"/>\n",
              "    <path d=\"M18.56 5.44l.94 2.06.94-2.06 2.06-.94-2.06-.94-.94-2.06-.94 2.06-2.06.94zm-11 1L8.5 8.5l.94-2.06 2.06-.94-2.06-.94L8.5 2.5l-.94 2.06-2.06.94zm10 10l.94 2.06.94-2.06 2.06-.94-2.06-.94-.94-2.06-.94 2.06-2.06.94z\"/><path d=\"M17.41 7.96l-1.37-1.37c-.4-.4-.92-.59-1.43-.59-.52 0-1.04.2-1.43.59L10.3 9.45l-7.72 7.72c-.78.78-.78 2.05 0 2.83L4 21.41c.39.39.9.59 1.41.59.51 0 1.02-.2 1.41-.59l7.78-7.78 2.81-2.81c.8-.78.8-2.07 0-2.86zM5.41 20L4 18.59l7.72-7.72 1.47 1.35L5.41 20z\"/>\n",
              "  </svg>\n",
              "      </button>\n",
              "      \n",
              "  <style>\n",
              "    .colab-df-container {\n",
              "      display:flex;\n",
              "      flex-wrap:wrap;\n",
              "      gap: 12px;\n",
              "    }\n",
              "\n",
              "    .colab-df-convert {\n",
              "      background-color: #E8F0FE;\n",
              "      border: none;\n",
              "      border-radius: 50%;\n",
              "      cursor: pointer;\n",
              "      display: none;\n",
              "      fill: #1967D2;\n",
              "      height: 32px;\n",
              "      padding: 0 0 0 0;\n",
              "      width: 32px;\n",
              "    }\n",
              "\n",
              "    .colab-df-convert:hover {\n",
              "      background-color: #E2EBFA;\n",
              "      box-shadow: 0px 1px 2px rgba(60, 64, 67, 0.3), 0px 1px 3px 1px rgba(60, 64, 67, 0.15);\n",
              "      fill: #174EA6;\n",
              "    }\n",
              "\n",
              "    [theme=dark] .colab-df-convert {\n",
              "      background-color: #3B4455;\n",
              "      fill: #D2E3FC;\n",
              "    }\n",
              "\n",
              "    [theme=dark] .colab-df-convert:hover {\n",
              "      background-color: #434B5C;\n",
              "      box-shadow: 0px 1px 3px 1px rgba(0, 0, 0, 0.15);\n",
              "      filter: drop-shadow(0px 1px 2px rgba(0, 0, 0, 0.3));\n",
              "      fill: #FFFFFF;\n",
              "    }\n",
              "  </style>\n",
              "\n",
              "      <script>\n",
              "        const buttonEl =\n",
              "          document.querySelector('#df-7c7cc432-3f14-4d68-bfc8-d6997604c1a1 button.colab-df-convert');\n",
              "        buttonEl.style.display =\n",
              "          google.colab.kernel.accessAllowed ? 'block' : 'none';\n",
              "\n",
              "        async function convertToInteractive(key) {\n",
              "          const element = document.querySelector('#df-7c7cc432-3f14-4d68-bfc8-d6997604c1a1');\n",
              "          const dataTable =\n",
              "            await google.colab.kernel.invokeFunction('convertToInteractive',\n",
              "                                                     [key], {});\n",
              "          if (!dataTable) return;\n",
              "\n",
              "          const docLinkHtml = 'Like what you see? Visit the ' +\n",
              "            '<a target=\"_blank\" href=https://colab.research.google.com/notebooks/data_table.ipynb>data table notebook</a>'\n",
              "            + ' to learn more about interactive tables.';\n",
              "          element.innerHTML = '';\n",
              "          dataTable['output_type'] = 'display_data';\n",
              "          await google.colab.output.renderOutput(dataTable, element);\n",
              "          const docLink = document.createElement('div');\n",
              "          docLink.innerHTML = docLinkHtml;\n",
              "          element.appendChild(docLink);\n",
              "        }\n",
              "      </script>\n",
              "    </div>\n",
              "  </div>\n",
              "  "
            ]
          },
          "metadata": {},
          "execution_count": 15
        }
      ]
    },
    {
      "cell_type": "code",
      "source": [
        "#####################################################\n",
        "# GÖREV 3: Hipotez Testinin Gerçekleştirilmesi\n",
        "#####################################################"
      ],
      "metadata": {
        "id": "0w5MEGXQU9LP"
      },
      "execution_count": 16,
      "outputs": []
    },
    {
      "cell_type": "code",
      "source": [
        "# Normallik Varsayımı :\n",
        "# H0: Normal dağılım varsayımı sağlanmaktadır.\n",
        "# H1: Normal dağılım varsayımı sağlanmamaktadır\n",
        "# p < 0.05 H0 RED\n",
        "# p > 0.05 H0 REDDEDİLEMEZ"
      ],
      "metadata": {
        "id": "9_eseHlhVItG"
      },
      "execution_count": 17,
      "outputs": []
    },
    {
      "cell_type": "code",
      "source": [
        "test_stat, pvalue = shapiro(df.loc[df[\"group\"] == \"control\", \"Purchase\"])\n",
        "print('Test Stat = %.4f, p-value = %.4f' % (test_stat, pvalue))"
      ],
      "metadata": {
        "colab": {
          "base_uri": "https://localhost:8080/"
        },
        "id": "N-2hqSYMVNoC",
        "outputId": "4b4660d5-7425-40e5-91af-54cd13698d87"
      },
      "execution_count": 18,
      "outputs": [
        {
          "output_type": "stream",
          "name": "stdout",
          "text": [
            "Test Stat = 0.9773, p-value = 0.5891\n"
          ]
        }
      ]
    },
    {
      "cell_type": "code",
      "source": [
        "# HO reddedilemez. Control grubunun değerleri normal dağılım varsayımını sağlamaktadır."
      ],
      "metadata": {
        "id": "y51xEA3RVPnh"
      },
      "execution_count": 19,
      "outputs": []
    },
    {
      "cell_type": "code",
      "source": [
        "# Varyans Homojenliği :\n",
        "# H0: Varyanslarhomojendir.\n",
        "# H1: Varyanslarhomojen Değildir.\n",
        "# p < 0.05 H0 RED\n",
        "# p > 0.05 H0 REDDEDİLEMEZ"
      ],
      "metadata": {
        "id": "fhufKYU8VRcN"
      },
      "execution_count": 20,
      "outputs": []
    },
    {
      "cell_type": "code",
      "source": [
        "test_stat, pvalue = levene(df.loc[df[\"group\"] == \"control\", \"Purchase\"],\n",
        "                           df.loc[df[\"group\"] == \"test\", \"Purchase\"])\n",
        "print('Test Stat = %.4f, p-value = %.4f' % (test_stat, pvalue))"
      ],
      "metadata": {
        "colab": {
          "base_uri": "https://localhost:8080/"
        },
        "id": "QC9-wUIiVTzq",
        "outputId": "20a65af5-f2d1-416a-9dc9-823b62594cd6"
      },
      "execution_count": 21,
      "outputs": [
        {
          "output_type": "stream",
          "name": "stdout",
          "text": [
            "Test Stat = 2.6393, p-value = 0.1083\n"
          ]
        }
      ]
    },
    {
      "cell_type": "code",
      "source": [
        "# HO reddedilemez. Control ve Test grubunun değerleri varyans homejenliği varsayımını sağlamaktadır.\n",
        "# Varyanslar Homojendir"
      ],
      "metadata": {
        "id": "h2JBi_lLVV4W"
      },
      "execution_count": 22,
      "outputs": []
    },
    {
      "cell_type": "code",
      "source": [
        "# Varsayımlar sağlandığı için bağımsız iki örneklem t testi (parametrik test) yapılmaktadır.\n",
        "# H0: M1 = M2 (Kontrol grubu ve test grubu satın alma ortalamaları arasında ist. ol.anl.fark yoktur.)\n",
        "# H1: M1 != M2 (Kontrol grubu ve test grubu satın alma ortalamaları arasında ist. ol.anl.fark vardır)\n",
        "# p<0.05 HO RED , p>0.05 HO REDDEDİLEMEZ"
      ],
      "metadata": {
        "id": "3YXuzjvoVe69"
      },
      "execution_count": 23,
      "outputs": []
    },
    {
      "cell_type": "code",
      "source": [
        "test_stat, pvalue = ttest_ind(df.loc[df[\"group\"] == \"control\", \"Purchase\"],\n",
        "                              df.loc[df[\"group\"] == \"test\", \"Purchase\"],\n",
        "                              equal_var=True)\n",
        "\n",
        "print('Test Stat = %.4f, p-value = %.4f' % (test_stat, pvalue))"
      ],
      "metadata": {
        "colab": {
          "base_uri": "https://localhost:8080/"
        },
        "id": "qraLUnowVYh-",
        "outputId": "bb3d4bfb-478e-40e1-c997-21e1b152fa89"
      },
      "execution_count": 24,
      "outputs": [
        {
          "output_type": "stream",
          "name": "stdout",
          "text": [
            "Test Stat = -0.9416, p-value = 0.3493\n"
          ]
        }
      ]
    },
    {
      "cell_type": "code",
      "source": [
        "# HO reddedilemez. Kontrol ve test grubu satın alma ortalamaları arasında istatistiksel olarak anlamlı farklılık yoktur."
      ],
      "metadata": {
        "id": "EKLIqbCJVf64"
      },
      "execution_count": 25,
      "outputs": []
    },
    {
      "cell_type": "code",
      "source": [],
      "metadata": {
        "id": "45kVLpKlVjJq"
      },
      "execution_count": null,
      "outputs": []
    }
  ]
}